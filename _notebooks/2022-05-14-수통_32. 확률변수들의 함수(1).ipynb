{
 "cells": [
  {
   "cell_type": "markdown",
   "id": "71c22d0b-c985-4517-bb2e-eb2785f12605",
   "metadata": {},
   "source": [
    "# 32. 확률변수들의 함수(1)\n",
    ">incomplete\n",
    "- toc: false\n",
    "- badges: true\n",
    "- comments: true\n",
    "- categories: [Statistical Mathematics]\n",
    "- image: images/chart-preview.png"
   ]
  },
  {
   "cell_type": "markdown",
   "id": "f48fb5bb-cb84-4a59-b74f-56bd6a59a096",
   "metadata": {},
   "source": [
    "초안"
   ]
  }
 ],
 "metadata": {
  "kernelspec": {
   "display_name": "Python 3",
   "language": "python",
   "name": "python3"
  },
  "language_info": {
   "codemirror_mode": {
    "name": "ipython",
    "version": 3
   },
   "file_extension": ".py",
   "mimetype": "text/x-python",
   "name": "python",
   "nbconvert_exporter": "python",
   "pygments_lexer": "ipython3",
   "version": "3.8.8"
  }
 },
 "nbformat": 4,
 "nbformat_minor": 5
}
