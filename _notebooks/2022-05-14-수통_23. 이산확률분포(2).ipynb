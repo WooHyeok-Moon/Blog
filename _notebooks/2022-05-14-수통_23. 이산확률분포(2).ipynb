{
 "cells": [
  {
   "cell_type": "markdown",
   "id": "fc56c1d9-767e-423f-bdca-72d2092eecbf",
   "metadata": {},
   "source": [
    "# 23. 이산확률분포(2)\n",
    ">incomplete\n",
    "- toc: false\n",
    "- badges: true\n",
    "- comments: true\n",
    "- categories: [Statistical Mathematics]\n",
    "- image: images/chart-preview.png"
   ]
  },
  {
   "cell_type": "markdown",
   "id": "925d1744-e045-4bae-bcb7-dc4c52f0ebef",
   "metadata": {},
   "source": [
    "초안"
   ]
  }
 ],
 "metadata": {
  "kernelspec": {
   "display_name": "Python 3",
   "language": "python",
   "name": "python3"
  },
  "language_info": {
   "codemirror_mode": {
    "name": "ipython",
    "version": 3
   },
   "file_extension": ".py",
   "mimetype": "text/x-python",
   "name": "python",
   "nbconvert_exporter": "python",
   "pygments_lexer": "ipython3",
   "version": "3.8.8"
  }
 },
 "nbformat": 4,
 "nbformat_minor": 5
}
