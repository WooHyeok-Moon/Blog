{
 "cells": [
  {
   "cell_type": "markdown",
   "id": "a4d29d08-3e81-4676-89b2-681add524f5d",
   "metadata": {},
   "source": [
    "# 37. 적률생성함수(4)\n",
    ">incomplete\n",
    "- toc: false\n",
    "- badges: true\n",
    "- comments: true\n",
    "- categories: [Statistical Mathematics]\n",
    "- image: images/chart-preview.png"
   ]
  },
  {
   "cell_type": "markdown",
   "id": "3316fb5b-df60-4441-aaa8-6081ff470ab7",
   "metadata": {},
   "source": [
    "초안"
   ]
  }
 ],
 "metadata": {
  "kernelspec": {
   "display_name": "Python 3",
   "language": "python",
   "name": "python3"
  },
  "language_info": {
   "codemirror_mode": {
    "name": "ipython",
    "version": 3
   },
   "file_extension": ".py",
   "mimetype": "text/x-python",
   "name": "python",
   "nbconvert_exporter": "python",
   "pygments_lexer": "ipython3",
   "version": "3.8.8"
  }
 },
 "nbformat": 4,
 "nbformat_minor": 5
}
