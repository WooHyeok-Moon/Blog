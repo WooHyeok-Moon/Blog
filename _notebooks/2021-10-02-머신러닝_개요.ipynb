{
 "cells": [
  {
   "cell_type": "markdown",
   "metadata": {},
   "source": [
    "# 1. 머신러닝 개요\n",
    ">incomplete\n",
    "- toc: true \n",
    "- badges: true\n",
    "- comments: true\n",
    "- categories: [Machine Learning]\n",
    "- image: images/chart-preview.png"
   ]
  },
  {
   "cell_type": "markdown",
   "metadata": {},
   "source": [
    "## 머신러닝이란?\n",
    "\n",
    "- Machine Learning은 컴퓨터가 데이터로부터 `학습`하도록 컴퓨터를 프로그래밍하는 과학(또는 예술)입니다. 아래는 일반적인 정의입니다.\n",
    "\n",
    ">[Machine Learning is the] field of study that gives computers the ability to learn without being explicitly programmed.  \n",
    "-Arthur Samuel, 1959\n",
    "\n",
    "- 조금 더 공학적인 정의는 다음과 같습니다.\n",
    "\n",
    ">A computer program is said to learn from experience E with respect to some task T and some performance measure P, if its performance on T, as measured by P, improves with experience E.  \n",
    "-Tom Mitchell, 1997\n",
    "\n",
    "- 공학적인 정의를 잠깐 짚고 넘어가자면, 프로그램이 어떤 작업 $T$를 수행했을 때 그 성능 지표가 $P$이고 이 $P$가 어떤 경혐 $E$에 의해 향상되었을 때, 우리는 작업 $T$와 그 성능 지표 $P$에 관하여 '프로그램이 경험 $E$를 통해 `학습`하였다'고 말할 수 있다는 것입니다.\n",
    "\n",
    "- Spam filter를 예로 들겠습니다. 스팸 필터는 일반 메일과 스팸 메일을 분류해주는 머신러닝 프로그램입니다. 이 프로그램은 저절로 뚝딱 만들어진 게 아니라 사용자(인간)에 의해 미리 분류된 수많은 분류 데이터들을 학습한 프로그램인 것이죠. 이 때 시스템이 학습하는 훈련 데이터들의 집단을 **training set**이라고 하고 개별 훈련 데이터 하나하나를 각각 **training instance** 또는 **sample**이라고 합니다."
   ]
  },
  {
   "cell_type": "markdown",
   "metadata": {},
   "source": [
    "***\n",
    "- 참고문헌\n",
    "\n",
    "    Aurelien Geron, \"Hands-On Machine Learning with Scikit-Learn, Keras & TensorFlow: Concepts, Tools, and Techniques to Build Intelligent Systems\", O'Reilly"
   ]
  },
  {
   "cell_type": "code",
   "execution_count": null,
   "metadata": {},
   "outputs": [],
   "source": []
  }
 ],
 "metadata": {
  "kernelspec": {
   "display_name": "Python 3",
   "language": "python",
   "name": "python3"
  },
  "language_info": {
   "codemirror_mode": {
    "name": "ipython",
    "version": 3
   },
   "file_extension": ".py",
   "mimetype": "text/x-python",
   "name": "python",
   "nbconvert_exporter": "python",
   "pygments_lexer": "ipython3",
   "version": "3.8.5"
  }
 },
 "nbformat": 4,
 "nbformat_minor": 4
}
