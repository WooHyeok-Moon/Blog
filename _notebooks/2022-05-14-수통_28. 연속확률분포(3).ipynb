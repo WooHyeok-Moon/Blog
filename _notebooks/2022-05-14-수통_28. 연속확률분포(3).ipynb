{
 "cells": [
  {
   "cell_type": "markdown",
   "id": "e8d4ecb4-f3a6-4c5b-b2ea-80080ea58e01",
   "metadata": {},
   "source": [
    "# 28. 연속확률분포(3)\n",
    ">incomplete\n",
    "- toc: false\n",
    "- badges: true\n",
    "- comments: true\n",
    "- categories: [Statistical Mathematics]\n",
    "- image: images/chart-preview.png"
   ]
  },
  {
   "cell_type": "markdown",
   "id": "1007fabf-324b-40b5-bcdd-957f25e601ce",
   "metadata": {},
   "source": [
    "초안"
   ]
  }
 ],
 "metadata": {
  "kernelspec": {
   "display_name": "Python 3",
   "language": "python",
   "name": "python3"
  },
  "language_info": {
   "codemirror_mode": {
    "name": "ipython",
    "version": 3
   },
   "file_extension": ".py",
   "mimetype": "text/x-python",
   "name": "python",
   "nbconvert_exporter": "python",
   "pygments_lexer": "ipython3",
   "version": "3.8.8"
  }
 },
 "nbformat": 4,
 "nbformat_minor": 5
}
