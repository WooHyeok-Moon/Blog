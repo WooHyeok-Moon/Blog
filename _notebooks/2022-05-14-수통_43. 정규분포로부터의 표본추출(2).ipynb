{
 "cells": [
  {
   "cell_type": "markdown",
   "id": "4158cdf8-0552-490b-95e2-8fa21ba2f1aa",
   "metadata": {},
   "source": [
    "# 43. 정규분포로부터의 표본추출(2)\n",
    ">incomplete\n",
    "- toc: false\n",
    "- badges: true\n",
    "- comments: true\n",
    "- categories: [Statistical Mathematics]\n",
    "- image: images/chart-preview.png"
   ]
  },
  {
   "cell_type": "markdown",
   "id": "786a3ad9-322d-4fe4-be5e-2f8a28e372cd",
   "metadata": {},
   "source": [
    "초안"
   ]
  }
 ],
 "metadata": {
  "kernelspec": {
   "display_name": "Python 3",
   "language": "python",
   "name": "python3"
  },
  "language_info": {
   "codemirror_mode": {
    "name": "ipython",
    "version": 3
   },
   "file_extension": ".py",
   "mimetype": "text/x-python",
   "name": "python",
   "nbconvert_exporter": "python",
   "pygments_lexer": "ipython3",
   "version": "3.8.8"
  }
 },
 "nbformat": 4,
 "nbformat_minor": 5
}
