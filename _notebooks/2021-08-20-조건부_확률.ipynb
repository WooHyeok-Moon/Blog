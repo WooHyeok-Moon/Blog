{
 "cells": [
  {
   "cell_type": "markdown",
   "metadata": {},
   "source": [
    "# 9. 조건부 확률\n",
    ">complete\n",
    "- toc: false\n",
    "- badges: true\n",
    "- comments: true\n",
    "- categories: [Statistics]\n",
    "- image: images/chart-preview.png"
   ]
  },
  {
   "cell_type": "markdown",
   "metadata": {},
   "source": [
    "저번 시간에 확률의 덧셈정리를 공부했습니다. 덧셈정리를 공부했으니 이제 곱셈정리를 공부할 차례입니다. 하지만 그 전에 알아야 할 것이 있는데, 바로 `조건부 확률`입니다."
   ]
  },
  {
   "cell_type": "markdown",
   "metadata": {},
   "source": [
    "## 조건부 확률\n",
    "`-` 어떠한 사건 B가 일어났을 때 사건 A가 일어났을 확률을 `조건부 확률`이라고 합니다. 기호로는 아래와 같이 나타냅니다.\n",
    "\n",
    "$$P(A|B)=\\frac{P(A \\cap B)}{P(B)}$$\n",
    "\n",
    "- 이해를 돕기 위해 일반적인 사건 A의 확률 $P(A)$ 의 관점에서 바라보겠습니다. 사건 A가 발생할 확률은 $P(A)$ 이며, 이는 $\\frac{P(A)}{P(S)}$와 같다고 볼 수 있습니다. $P(S)=1$이기 때문에 생략되어 $P(A)$로 나타낼 수 있는 것이죠.\n",
    "\n",
    "  $P(A)$는 어떤 시행에서 A라는 사건이 일어날 확률을 구하는 것입니다. 이는 다르게 말하면 시행을 했다는 전제 하에 비로소 사건 A의 확률을 정의할 수 있다는 것입니다. 이 시행에서 일어날 수 있는 모든 사건들을 합한 것이 바로 표본공간입니다. 그렇다면 사건 A의 확률은 **어떤 사건 S가 일어났을 때 사건 A의 확률**로 정의될 수 있는 것이고, 이는 $P(A|S)=\\frac{P(A \\cap S)}{P(S)}=\\frac{P(A)}{1}=P(A)$ 로 표현될 수 있습니다.\n",
    "  \n",
    "- 이와 마찬가지로, 사건 B가 일어났을 때 사건 A가 일어났을 확률에서 분자는 $P(A \\cap B)$가 되고 분모는 $P(B)$ 가 됩니다. 사건 B가 일어났을 때 사건 A가 일어났다는 것은 사건 A와 B가 동시에 일어난다는 것을 뜻하며, 이 확률은 $P(A \\cap B)$ 로 구할 수 있습니다. 또한 이 때 사건 B는 '조건부 확률이 아닌 일반적인 확률에서의 표본공간 S'를 대신해주는 역할을 하기 때문에 분모로 들어가는 것입니다."
   ]
  },
  {
   "cell_type": "markdown",
   "metadata": {},
   "source": []
  }
 ],
 "metadata": {
  "kernelspec": {
   "display_name": "Python 3",
   "language": "python",
   "name": "python3"
  },
  "language_info": {
   "codemirror_mode": {
    "name": "ipython",
    "version": 3
   },
   "file_extension": ".py",
   "mimetype": "text/x-python",
   "name": "python",
   "nbconvert_exporter": "python",
   "pygments_lexer": "ipython3",
   "version": "3.8.5"
  }
 },
 "nbformat": 4,
 "nbformat_minor": 4
}
