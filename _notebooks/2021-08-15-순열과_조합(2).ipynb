{
 "cells": [
  {
   "cell_type": "markdown",
   "metadata": {},
   "source": [
    "# 5. 순열과 조합(2)\n",
    ">complete\n",
    "- toc: false\n",
    "- badges: true\n",
    "- comments: true\n",
    "- categories: [Statistical Mathematics]\n",
    "- image: images/chart-preview.png"
   ]
  },
  {
   "cell_type": "markdown",
   "metadata": {},
   "source": [
    "## 원순열\n",
    "`-` 서로 다른 n개에서 r개를 **원형**으로 배열하는 순열을 `원순열`이라고 합니다. 계산식은 $\\frac{n!}{r(n-r)!}$ 입니다.\n",
    "\n",
    "- 숫자 1, 2, 3을 이용한 순열의 경우는 6가지가 존재합니다.\n",
    "  \n",
    "  (1, 2, 3), (1, 3, 2), (2, 1, 3), (2, 3, 1), (3, 1, 2), (3, 2, 1)  \n",
    "  \n",
    "  이는 서로 다른 3개에서 3개를 배열하는 순열이기 때문에 아래와 같이 계산됩니다.\n",
    "  \n",
    "  $$_3P_3=3!=3*2*1=6$$\n",
    "- 하지만 이 순열을 원형으로 배치한다면 결과가 다릅니다.  \n",
    "  \n",
    "  ![Circles](https://user-images.githubusercontent.com/76620002/129473130-6ead680d-6381-4ccc-9c9c-285ceb654d51.PNG)\n",
    "  위 그림과 같이 숫자를 원형으로 배열하게 되면, 회전하여 일치하는 경우는 모두 같은 경우이기 때문에  \n",
    "  \n",
    "  첫 번째, 네 번째, 다섯 번째 경우는 같은 경우입니다.  \n",
    "  \n",
    "  두 번째, 세 번째, 여섯 번째 경우는 같은 경우입니다.\n",
    "  \n",
    "  때문에 경우의 수는 2로 줄어들게 됩니다. 이렇게 **중복되는 경우는 빼주는 것이 아니라 나누어줘야 합니다**.\n",
    "  \n",
    "  원순열에서는 회전하여 일치하는(중복되는) 경우의 수가 배열하는 원소의 개수(r)와 같기 때문에, r만큼 나누어줘야 합니다. 이를 식으로 나타내보겠습니다.  \n",
    "  \n",
    "  $$\\frac{_nP_r}{r}=\\frac{n!}{r(n-r)!}$$\n",
    "  \n",
    "  "
   ]
  },
  {
   "cell_type": "markdown",
   "metadata": {},
   "source": [
    "***"
   ]
  },
  {
   "cell_type": "markdown",
   "metadata": {},
   "source": [
    "## 다각형 순열\n",
    "저희는 원순열에서 회전하여 일치하는 경우를 같은 경우로 취급하였습니다. 그렇다면 원이 아닌 다각형에 배열한 순열의 경우는 어떻게 될까요?  \n",
    "\n",
    "`-` 이러한 순열을 `다각형 순열`이라고 부릅니다.\n",
    "![perm_ figures](https://user-images.githubusercontent.com/76620002/129474243-607b397e-c860-4449-8841-1d6c55067b65.png)\n",
    "\n",
    "- 마찬가지로 다각형 순열 또한 회전하여 일치하는 경우를 같은 경우로 취급합니다.  \n",
    "  \n",
    "  첫 번째 그림(정사각형)의 경우, 회전시켰을 때 같은 모양이 되는 경우가 (처음 모양의 경우를 포함하여) 4개 존재합니다.  \n",
    "  따라서 이를 식으로 나타내면 $\\frac{n!}{4(n-r)!}$ 입니다.\n",
    "  \n",
    "  두 번째 그림(정삼각형)의 경우, 회전시켰을 때 같은 모양이 되는 경우가 3개 존재합니다.  \n",
    "  따라서 이를 식으로 나타내면 $\\frac{n!}{3(n-r)!}$ 입니다.\n",
    "  \n",
    "  세 번째 그림(직사각형)의 경우, 회전시켰을 때 같은 모양이 되는 경우가 2개 존재합니다.  \n",
    "  따라서 이를 식으로 나타내면 $\\frac{n!}{2(n-r)!}$ 입니다."
   ]
  },
  {
   "cell_type": "markdown",
   "metadata": {},
   "source": [
    "***"
   ]
  },
  {
   "cell_type": "markdown",
   "metadata": {},
   "source": [
    "## 동자순열\n",
    "`-` 원순열, 다각형 순열 등과 같이 중복되는 경우가 존재하는 순열을 `동자순열`이라고 하고, 계산은 $_nP_r$에서 중복되는 경우의 수를 나눠줍니다."
   ]
  },
  {
   "cell_type": "markdown",
   "metadata": {},
   "source": [
    "- 동자순열은 원순열과 다각형 순열 외에도 존재합니다.  \n",
    "  \n",
    "  ![spheres](https://user-images.githubusercontent.com/76620002/129474946-1e0acac9-c7e5-479e-b0c5-0fffbe832e0d.png)  \n",
    "  이와 같은 경우, 같은 색의 공끼리는 위치를 아무리 바꾸어도 동일한 경우가 됩니다. 따라서 빨간 색 공끼리 위치를 바꿀 경우의 수 $3!$만큼, 노란 색의 경우 $2!$만큼, 파란 색의 경우 $2!$만큼의 중복이 발생합니다. 중복을 고려하여 경우의 수를 계산해보겠습니다.  \n",
    "  $$\\frac{_7P_7}{3!2!2!}=\\frac{7!}{24}=210$$"
   ]
  },
  {
   "cell_type": "code",
   "execution_count": null,
   "metadata": {},
   "outputs": [],
   "source": []
  }
 ],
 "metadata": {
  "kernelspec": {
   "display_name": "Python 3",
   "language": "python",
   "name": "python3"
  },
  "language_info": {
   "codemirror_mode": {
    "name": "ipython",
    "version": 3
   },
   "file_extension": ".py",
   "mimetype": "text/x-python",
   "name": "python",
   "nbconvert_exporter": "python",
   "pygments_lexer": "ipython3",
   "version": "3.8.5"
  }
 },
 "nbformat": 4,
 "nbformat_minor": 4
}
