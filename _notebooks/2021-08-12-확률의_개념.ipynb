{
 "cells": [
  {
   "cell_type": "markdown",
   "metadata": {},
   "source": [
    "# 1. 확률의 개념\n",
    ">uncomplete\n",
    "- toc: true \n",
    "- badges: true\n",
    "- comments: true\n",
    "- categories: [Statistics]\n",
    "- image: images/chart-preview.png"
   ]
  },
  {
   "cell_type": "markdown",
   "metadata": {},
   "source": [
    "## 서론\n",
    "머신러닝, 딥러닝 공부를 하다보니 통계학에 대해 한 번 정리하고 넘어가야겠다는 생각을 하게 되었습니다.\n",
    "\n",
    "여러분은 고등학교 시절부터 지금까지, '확률과 통계'라는 단어를 종종 접해보셨을 겁니다. `확률`과 `통계`는 엄연히 다른 개념입니다. `통계`를 알지 않아도 `확률`을 배울 수는 있지만, `확률`을 알지 못하면 `통계`를 배울 수 없습니다.\n",
    "\n",
    "확률을 공부하기 전에 알아두어야 할 세 가지 사전 지식이 있습니다. 바로 `시행`, `표본공간`, `사건` 입니다."
   ]
  },
  {
   "cell_type": "markdown",
   "metadata": {},
   "source": [
    "## 시행\n",
    "\n",
    "시행이란 **동일한 조건**에서 **여러 번 반복**할 수 있고, 그 결과가 **우연**에 의해 결정되는 '관찰 또는 실험'을 말합니다.\n",
    "\n",
    "확률을 구하는 실험으로 `주사위 실험`과 `동전 던지기 실험`이 빈번하게 등장하곤 합니다. 이는 두 실험 모두 저 조건을 모두 만족하는 `시행`에 해당되기 때문입니다.\n",
    "    \n",
    "A가 주사위 또는 동전을 6번 던지는 실험을 가정해보겠습니다. 이 때, A의 첫 번째 시행과 두 번째 시행, n 번째 시행의 **조건은 다르지 않습니다**. 한 번 던졌다고 해서 주사위나 동전이 사라지거나 손상되지는 않기 때문에 **반복 가능**합니다. 또한 저희가 이 실험의 결과를 의도적으로 바꿀 수 없기 때문에 **우연**에 의해 결과가 결정된다고 할 수 있습니다."
   ]
  },
  {
   "cell_type": "markdown",
   "metadata": {},
   "source": [
    "이렇게 `시행`의 조건을 정하는 데는 이유가 있습니다.\n",
    "\n",
    "저희는 지금 통계적 확률을 구하려고 합니다. **동일한 조건**에서 **여러 번 반복**할 수 없다면, 시행의 횟수가 적어 유의미한 확률을 구할 수 없을 것입니다. 또한 결과가 **우연**에 의해 일어나는 것이 아니라 어떤 원인에 의해 필연적으로 일어난다면, 확률을 구하는 것 보다는 그 원인과 결과의 관계성을 추론하는 것이 더 바람직한 행위일 것입니다."
   ]
  },
  {
   "cell_type": "code",
   "execution_count": null,
   "metadata": {},
   "outputs": [],
   "source": []
  }
 ],
 "metadata": {
  "kernelspec": {
   "display_name": "Python 3",
   "language": "python",
   "name": "python3"
  },
  "language_info": {
   "codemirror_mode": {
    "name": "ipython",
    "version": 3
   },
   "file_extension": ".py",
   "mimetype": "text/x-python",
   "name": "python",
   "nbconvert_exporter": "python",
   "pygments_lexer": "ipython3",
   "version": "3.8.5"
  }
 },
 "nbformat": 4,
 "nbformat_minor": 4
}
