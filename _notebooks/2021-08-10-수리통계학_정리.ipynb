{
 "cells": [
  {
   "cell_type": "markdown",
   "metadata": {},
   "source": [
    "# 0. 수리통계학 정리\n",
    ">incomplete\n",
    "- toc: true \n",
    "- badges: true\n",
    "- comments: true\n",
    "- categories: [Statistical Mathematics]\n",
    "- image: images/chart-preview.png"
   ]
  },
  {
   "cell_type": "markdown",
   "metadata": {},
   "source": [
    "## 1. 확률이론"
   ]
  },
  {
   "cell_type": "markdown",
   "metadata": {},
   "source": [
    "### 1.1\n",
    "\n",
    "두 개의 사건 A와 B에 대하여 다음과 같은 성질들이 성립한다.\n",
    "\n",
    "$$P(A^c)=1-P(A)$$\n",
    "$$P(\\varnothing)=0$$\n",
    "$$A \\subset B이면 P(A) \\leq P(B)이다.$$\n",
    "$$P(A \\cup B) =  P(A) + P(B) - P(A \\cup B)$$"
   ]
  },
  {
   "cell_type": "markdown",
   "metadata": {},
   "source": [
    "***"
   ]
  },
  {
   "cell_type": "markdown",
   "metadata": {},
   "source": [
    "### 1.2 (전확률공식)\n",
    "\n",
    "사건 $B_1, B_2, \\cdots , B_k$는 상호배반이며 $(B_i \\cap B_j = \\varnothing, i \\neq j), \\cup_{i=1}^{k}B_i=S$라고 하자. 이 때 임의의 사건 A에 대하여,\n",
    "\n",
    "$$P(A)=\\sum_{i=1}^{k}P(B_i)P(A|B_i)$$\n",
    "\n",
    "가 성립한다."
   ]
  },
  {
   "cell_type": "markdown",
   "metadata": {},
   "source": [
    "***"
   ]
  },
  {
   "cell_type": "markdown",
   "metadata": {},
   "source": [
    "### 1.3 (베이즈 정리)\n",
    "\n",
    "사건 $B_1, B_2, \\cdots , B_k$는 상호배반이며 $(B_i \\cap B_j = \\varnothing, i \\neq j), \\cup_{i=1}^{k}B_i=S$라고 하자. 이 때 사건 A가 일어났다는 조건하에서 사건 B_j가 일어날 확률은\n",
    "\n",
    "$$P(B_j|A)=\\frac{P(B_j)P(A|B)}{\\sum_{i=1}^{k}P(B_i)P(A|B_i)}$$\n",
    "\n",
    "로 주어진다."
   ]
  },
  {
   "cell_type": "markdown",
   "metadata": {},
   "source": [
    "***"
   ]
  },
  {
   "cell_type": "markdown",
   "metadata": {},
   "source": [
    "## 2. 확률변수"
   ]
  },
  {
   "cell_type": "markdown",
   "metadata": {},
   "source": [
    "### 2.1\n",
    "\n",
    "함수 $F(x)$가 어떤 확률변수 $X$의 누적분포함수가 되는 필요충분조건은 다음과 같다.\n",
    "\n",
    "$$\\lim_{x \\to -\\infty} F(x) = 0$$\n",
    "$$\\lim_{x \\to \\infty} F(x) = 1$$\n",
    "$$\\lim_{h \\to 0^+} F(x+h) = F(x)$$\n",
    "$$a<b이면\\,F(a)\\leq F(b)$$"
   ]
  },
  {
   "cell_type": "markdown",
   "metadata": {},
   "source": [
    "***"
   ]
  },
  {
   "cell_type": "markdown",
   "metadata": {},
   "source": [
    "### 2.2\n",
    "\n",
    "연속형확률변수 $X$의 확률밀도함수가 $f(x)$이고 확률분포함수가 $F(x)$이면, $f(x)=\\frac{d}{dx} F(x)$를 만족한다."
   ]
  },
  {
   "cell_type": "markdown",
   "metadata": {},
   "source": [
    "***"
   ]
  },
  {
   "cell_type": "markdown",
   "metadata": {},
   "source": [
    "### 2.3\n",
    "\n",
    "함수 $F(x1, x2)$가 어떤 이변량 확률벡터 $(X_1, X_2)$의 결합 확률분포함수가 되는 필요충분조건은 다음과 같다.  \n",
    "\n",
    "모든 $x_1$에 대하여 $\\lim_{x_2 \\to -\\infty} F(x_1, x_2) = F(x_1, -\\infty) = 0$  \n",
    "모든 $x_2$에 대하여 $\\lim_{x_1 \\to -\\infty} F(x_1, x_2) = F(-\\infty, x_2) = 0$, $\\lim_{x1 \\to \\infty, x2 \\to \\infty} F(x_1, x_2) = F(\\infty, \\infty) = 1$  \n",
    "모든 $a<b$, $c<d$에 대하여 $F(b, d) - F(b, c) - F(a, d) - F(a, d) + F(a, c) \\geq 0$  \n",
    "모든 $x_1, x_2$에 대하여 $\\lim_{h \\to 0^+} F(x_1, x_2 + h) = \\lim_{h \\to 0^+} F(x_1 + h, x_2) = F(x_1, x_2)$\n"
   ]
  },
  {
   "cell_type": "markdown",
   "metadata": {},
   "source": [
    "***"
   ]
  },
  {
   "cell_type": "markdown",
   "metadata": {},
   "source": [
    "### 2.4\n",
    "\n",
    "두 확률변수 $X, Y$의 결합 확률밀도함수가 $f_{X, Y}(x, y)$로 주어졌을 때, $X$와 $Y$ 각각의 주변 확률밀도함수 $f_X(x)$와 $f_Y(y)$는  \n",
    "\n",
    "(1) 이산형인 경우\n",
    "$$f_X(x) = \\sum_{\\forall{y}}f_{X,Y}(x,y), f_Y(y)=\\sum_{\\forall{x}}f_{X,Y}(x,y)$$\n",
    "\n",
    "(2) 연속형인 경우\n",
    "$$f_X(x) = \\int_{-\\infty}^{\\infty}f_{X,Y}(x,y)\\mathrm{d}y,\\; f_Y(y) = \\int_{-\\infty}^{\\infty}f_(X,Y)(x,y)\\mathrm{d}x$$\n",
    "로 구해진다."
   ]
  },
  {
   "cell_type": "markdown",
   "metadata": {},
   "source": [
    "***"
   ]
  },
  {
   "cell_type": "markdown",
   "metadata": {},
   "source": [
    "### 2.5\n",
    "\n",
    "두 확률변수 $X$와 $Y$가 서로 독립일 필요충분조건은\n",
    "\n",
    "$$f_{X,Y}(x,y) = f_X(x)\\cdot f_Y(y)$$\n",
    "\n",
    "이다."
   ]
  },
  {
   "cell_type": "markdown",
   "metadata": {},
   "source": [
    "***"
   ]
  },
  {
   "cell_type": "markdown",
   "metadata": {},
   "source": [
    "### 2.6\n",
    "\n",
    "확률변수 $X$의 함수에 대한 기댓값은, 상수 $a, b, c$에 대하여\n",
    "\n",
    "$$E(c)=c$$\n",
    "$$E(aX+b)=aE(X)+b$$\n",
    "\n",
    "를 만족한다."
   ]
  },
  {
   "cell_type": "markdown",
   "metadata": {},
   "source": [
    "***"
   ]
  },
  {
   "cell_type": "markdown",
   "metadata": {},
   "source": [
    "### 2.7\n",
    "\n",
    "두 확률변수 $X$와 $Y$가 서로 독립이면\n",
    "\n",
    "$$E(XY)=E(X)\\cdot E(Y)$$\n",
    "\n",
    "가 성립한다. 또한, $X$와 $Y$의 함수인 $g(X)$와 $h(Y)$도 독립이며\n",
    "\n",
    "$$E[g(X)h(Y)] = E[g(X)] \\cdot E[h(Y)]$$\n",
    "\n",
    "이다."
   ]
  },
  {
   "cell_type": "markdown",
   "metadata": {},
   "source": [
    "***"
   ]
  },
  {
   "cell_type": "markdown",
   "metadata": {},
   "source": [
    "### 2.8\n",
    "\n",
    "(1) 확률변수 $X, Y$에 대하여, $Y=aX+b$이면\n",
    "\n",
    "$$Var(y)=a^2Var(X)$$\n",
    "\n",
    "(2) 확률변수 $X_1,X_2,\\cdots,X_n$이 서로 독립이면\n",
    "\n",
    "$$Var(\\sum_{i=1}^n X_i)=\\sum_{i=1}^n Var(X_i)$$"
   ]
  },
  {
   "cell_type": "markdown",
   "metadata": {},
   "source": [
    "***"
   ]
  },
  {
   "cell_type": "markdown",
   "metadata": {},
   "source": [
    "### 2.9\n",
    "\n",
    "두 확률변수 $X,Y$의 공분산은\n",
    "\n",
    "$$\\begin{aligned}\n",
    "Cov(X,Y)=&E[(X-EX)(Y-EY)]\\\\\n",
    "&E(XY)-E(X)E(Y)\n",
    "\\end{aligned}$$"
   ]
  },
  {
   "cell_type": "markdown",
   "metadata": {},
   "source": [
    "***"
   ]
  },
  {
   "cell_type": "markdown",
   "metadata": {},
   "source": [
    "### 2.10\n",
    "\n",
    "확률변수 $X_1, X_2, \\cdots, X_n$이 있을 때,\n",
    "\n",
    "$$Var(\\sum_{i=1}^n X_i) = \\sum_{i=1}^n Var(X_i) + 2\\sum_{j<k}Cov(X_j, X_k)$$\n",
    "\n",
    "가 성립한다."
   ]
  },
  {
   "cell_type": "markdown",
   "metadata": {},
   "source": [
    "***"
   ]
  },
  {
   "cell_type": "markdown",
   "metadata": {},
   "source": [
    "### 2.11\n",
    "\n",
    "두 확률변수 $X, Y$에 대하여\n",
    "\n",
    "$$E[E(Y|X)] = E(Y)$$\n",
    "\n",
    "가 성립한다."
   ]
  },
  {
   "cell_type": "markdown",
   "metadata": {},
   "source": [
    "***"
   ]
  },
  {
   "cell_type": "markdown",
   "metadata": {},
   "source": [
    "### 2.12\n",
    "\n",
    "확률변수 $X$와 $Y$가 독립이면\n",
    "\n",
    "$$E(Y|x) = E(Y), E(X|y) = E(X)$$\n",
    "\n",
    "가 성립한다."
   ]
  },
  {
   "cell_type": "markdown",
   "metadata": {},
   "source": [
    "***"
   ]
  },
  {
   "cell_type": "markdown",
   "metadata": {},
   "source": [
    "### 2.13\n",
    "\n",
    "두 확률변수 $X, Y$에 대하여\n",
    "\n",
    "$$Var(Y) = E[Var(Y|X)] + Var[E(Y|X)]$$\n",
    "\n",
    "가 성립한다."
   ]
  },
  {
   "cell_type": "markdown",
   "metadata": {},
   "source": [
    "***"
   ]
  },
  {
   "cell_type": "markdown",
   "metadata": {},
   "source": [
    "### 2.14 마코프 확률부등식\n",
    "\n",
    "실함수 $u(x) > 0$라고 할때, 확률변수 $X$는 임의의 상수 $c>0$에 대하여\n",
    "\n",
    "$$P[u(X) \\geq c] \\leq \\frac{E[u(X)]}{c}$$\n",
    "\n",
    "를 만족한다."
   ]
  },
  {
   "cell_type": "markdown",
   "metadata": {},
   "source": [
    "***"
   ]
  },
  {
   "cell_type": "markdown",
   "metadata": {},
   "source": [
    "### 2.15 체비셰프 부등식\n",
    "\n",
    "확률변수 $X$의 평균이 $\\mu$이고 분산이 $\\sigma^2 < \\infty$이면, 임의의 $k>0$에 대하여\n",
    "\n",
    "$$P[|X-\\mu| \\geq k\\sigma] \\leq \\frac{1}{k^2}$$\n",
    "\n",
    "이 성립한다."
   ]
  },
  {
   "cell_type": "markdown",
   "metadata": {},
   "source": [
    "***"
   ]
  },
  {
   "cell_type": "markdown",
   "metadata": {},
   "source": [
    "### 2.16 코시-슈바르츠 부등식\n",
    "\n",
    "두 확률변수 $X, Y$에 대해서 $E(X^2)<\\infty, E(Y^2)<\\infty$가 만족된다면,\n",
    "\n",
    "$$[E(XY)]^2 \\leq E(X^2) \\cdot E(Y^2)$$\n",
    "\n",
    "이 성립한다. (단, 등식은 어떤 상수 $c$에 대하여 $P(Y-cX)=1$인 경우에 성립함.)"
   ]
  },
  {
   "cell_type": "markdown",
   "metadata": {},
   "source": [
    "***"
   ]
  },
  {
   "cell_type": "markdown",
   "metadata": {},
   "source": [
    "### 2.17\n",
    "\n",
    "확률변수 $X$가 $B(n, p)$ 분포를 따른다고 하자. 이때 $n$이 커짐에 따라 $p$가 0으로 수렴하되 $np=\\lambda$를 만족하면, $x=0, 1, 2, \\cdots$에 대해서\n",
    "\n",
    "$$\\lim_{n \\to \\infty} \\begin{pmatrix} n\\\\ x \\end{pmatrix} p^x(1-p)^(n-x) = \\frac{exp(-\\lambda)\\lambda^x}{x!}$$\n",
    "\n",
    "이 성립한다."
   ]
  },
  {
   "cell_type": "markdown",
   "metadata": {},
   "source": [
    "***"
   ]
  },
  {
   "cell_type": "markdown",
   "metadata": {},
   "source": [
    "### 2.18\n",
    "\n",
    "$X\\sim GEO(p)$이면, 임의의 자연수 $j, k$에 대하여,\n",
    "\n",
    "$$P(X>j+k|X>j)=P(X>k)$$\n",
    "\n",
    "가 성립한다."
   ]
  },
  {
   "cell_type": "markdown",
   "metadata": {},
   "source": [
    "***"
   ]
  },
  {
   "cell_type": "markdown",
   "metadata": {},
   "source": [
    "- 참고문헌\n",
    "\n",
    "  \"수리통계학\" by 송성주, 전명식. -자유아카데미-"
   ]
  },
  {
   "cell_type": "code",
   "execution_count": null,
   "metadata": {},
   "outputs": [],
   "source": []
  }
 ],
 "metadata": {
  "kernelspec": {
   "display_name": "Python 3",
   "language": "python",
   "name": "python3"
  },
  "language_info": {
   "codemirror_mode": {
    "name": "ipython",
    "version": 3
   },
   "file_extension": ".py",
   "mimetype": "text/x-python",
   "name": "python",
   "nbconvert_exporter": "python",
   "pygments_lexer": "ipython3",
   "version": "3.8.5"
  }
 },
 "nbformat": 4,
 "nbformat_minor": 4
}
