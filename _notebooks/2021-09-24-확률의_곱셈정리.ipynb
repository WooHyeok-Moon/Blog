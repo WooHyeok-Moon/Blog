{
 "cells": [
  {
   "cell_type": "markdown",
   "metadata": {},
   "source": [
    "# 10. 확률의 곱셈정리\n",
    ">complete\n",
    "- toc: true \n",
    "- badges: true\n",
    "- comments: true\n",
    "- categories: [Statistics]\n",
    "- image: images/chart-preview.png"
   ]
  },
  {
   "cell_type": "markdown",
   "metadata": {},
   "source": [
    "## 확률의 곱셈정리\n",
    "\n",
    "- 조건부 확률에서 아래의 식을 배웠습니다.\n",
    "\n",
    "$$P(A|B) = \\frac{P(A \\cap B)}{P(B)}$$\n",
    "\n",
    "- 이 식을 통해 다음의 관계식을 얻을 수 있습니다.\n",
    "\n",
    "$$P(A \\cap B) = P(B) \\cdot P(A|B)$$\n",
    "$$P(A \\cap B) = P(A) \\cdot P(B|A)$$\n",
    "\n",
    "- 이렇게 얻은 식을 우리는 `확률의 곱셈정리` 라고 합니다. 예를 들어 철수와 영희가 차례로 5개의 제비 중 2개의 당첨제비가 있는 제비뽑기를 한다고 가정했을 때 철수가 당첨되는 사건을 A, 영희가 당첨되는 확률을 B라고 하겠습니다. 철수가 뽑은 제비는 다시 넣지 않는 비복원추출입니다. 이 때 사건 A는 사건 B에 영향을 미치게 됩니다. 따라서 A와 B가 동시에 일어날 확률 $P(A \\cap B)$는 $P(A) \\cdot P(B|A)$가 됩니다. 직접 구해보면 아래와 같다는 것을 알 수 있을 것입니다.\n",
    "\n",
    "$$P(A \\cap B) = \\frac{2}{5} \\cdot \\frac{1}{4} = \\frac{1}{10}$$\n",
    "\n",
    "- 하지만 만약 두 사건이 위와 다르게 서로 영향을 미치지 않는다면, 즉 `독립`이라면, $P(A|B) = P(A)$이므로 아래와 같은 식을 얻어낼 수 있습니다.\n",
    "\n",
    "$$P(A \\cap B) = P(A) \\cdot P(B)$$"
   ]
  },
  {
   "cell_type": "markdown",
   "metadata": {},
   "source": []
  }
 ],
 "metadata": {
  "kernelspec": {
   "display_name": "Python 3",
   "language": "python",
   "name": "python3"
  },
  "language_info": {
   "codemirror_mode": {
    "name": "ipython",
    "version": 3
   },
   "file_extension": ".py",
   "mimetype": "text/x-python",
   "name": "python",
   "nbconvert_exporter": "python",
   "pygments_lexer": "ipython3",
   "version": "3.8.5"
  }
 },
 "nbformat": 4,
 "nbformat_minor": 4
}
