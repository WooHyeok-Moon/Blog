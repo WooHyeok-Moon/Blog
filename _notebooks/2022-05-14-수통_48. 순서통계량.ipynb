{
 "cells": [
  {
   "cell_type": "markdown",
   "id": "ff4d21fa-eea7-4206-99e9-161d37f99a4c",
   "metadata": {},
   "source": [
    "# 48. 순서통계량\n",
    ">incomplete\n",
    "- toc: false\n",
    "- badges: true\n",
    "- comments: true\n",
    "- categories: [Statistical Mathematics]\n",
    "- image: images/chart-preview.png"
   ]
  },
  {
   "cell_type": "markdown",
   "id": "e9a61aa3-30b2-431e-825b-6d3452dc83dd",
   "metadata": {},
   "source": [
    "초안"
   ]
  }
 ],
 "metadata": {
  "kernelspec": {
   "display_name": "Python 3",
   "language": "python",
   "name": "python3"
  },
  "language_info": {
   "codemirror_mode": {
    "name": "ipython",
    "version": 3
   },
   "file_extension": ".py",
   "mimetype": "text/x-python",
   "name": "python",
   "nbconvert_exporter": "python",
   "pygments_lexer": "ipython3",
   "version": "3.8.8"
  }
 },
 "nbformat": 4,
 "nbformat_minor": 5
}
