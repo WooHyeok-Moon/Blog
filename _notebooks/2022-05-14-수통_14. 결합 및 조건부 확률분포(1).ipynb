{
 "cells": [
  {
   "cell_type": "markdown",
   "id": "354f04c7-11bd-41d4-bf08-3fa0a14ae477",
   "metadata": {},
   "source": [
    "# 14. 결합 및 조건부 확률분포(1)\n",
    ">incomplete\n",
    "- toc: false\n",
    "- badges: true\n",
    "- comments: true\n",
    "- categories: [Statistical Mathematics]\n",
    "- image: images/chart-preview.png"
   ]
  },
  {
   "cell_type": "markdown",
   "id": "a3ebc3af-6c9e-4663-a726-8fd84830b645",
   "metadata": {},
   "source": [
    "초안"
   ]
  },
  {
   "cell_type": "code",
   "execution_count": null,
   "id": "3b2ca854-8024-4b54-9951-aa919b1119ec",
   "metadata": {},
   "outputs": [],
   "source": []
  }
 ],
 "metadata": {
  "kernelspec": {
   "display_name": "Python 3",
   "language": "python",
   "name": "python3"
  },
  "language_info": {
   "codemirror_mode": {
    "name": "ipython",
    "version": 3
   },
   "file_extension": ".py",
   "mimetype": "text/x-python",
   "name": "python",
   "nbconvert_exporter": "python",
   "pygments_lexer": "ipython3",
   "version": "3.8.8"
  }
 },
 "nbformat": 4,
 "nbformat_minor": 5
}
