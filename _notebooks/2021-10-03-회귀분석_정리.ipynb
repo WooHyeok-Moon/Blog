{
 "cells": [
  {
   "cell_type": "markdown",
   "metadata": {},
   "source": [
    "# 0. 회귀분석 정리\n",
    ">incomplete\n",
    "- toc: true \n",
    "- badges: true\n",
    "- comments: true\n",
    "- categories: [Regression]\n",
    "- image: images/chart-preview.png"
   ]
  },
  {
   "cell_type": "markdown",
   "metadata": {},
   "source": [
    "## 1. 행렬"
   ]
  },
  {
   "cell_type": "markdown",
   "metadata": {},
   "source": [
    "### 1.1\n",
    "\n",
    "$$A+B=B+A$$\n",
    "$$(A+B)+C=A+(B+C)$$\n",
    "$$(A+B)^{\\prime}=A^{\\prime} + B^{\\prime}$$"
   ]
  },
  {
   "cell_type": "markdown",
   "metadata": {},
   "source": [
    "***"
   ]
  },
  {
   "cell_type": "markdown",
   "metadata": {},
   "source": [
    "### 1.2 \n",
    "\n",
    "일반적으로 $A \\cdot B \\neq B \\cdot A$ 이다."
   ]
  },
  {
   "cell_type": "markdown",
   "metadata": {},
   "source": [
    "***"
   ]
  },
  {
   "cell_type": "markdown",
   "metadata": {},
   "source": [
    "### 1.3\n",
    "\n",
    "$$(A \\cdot B)^{\\prime} = B^{\\prime} \\cdot A^{\\prime}$$\n"
   ]
  },
  {
   "cell_type": "markdown",
   "metadata": {},
   "source": [
    "***"
   ]
  },
  {
   "cell_type": "markdown",
   "metadata": {},
   "source": [
    "### 1.4\n",
    "\n",
    "모든 정방행렬에 대하여 $A \\cdot I = I \\cdot A = A$가 성립한다.\n"
   ]
  },
  {
   "cell_type": "markdown",
   "metadata": {},
   "source": [
    "***"
   ]
  },
  {
   "cell_type": "markdown",
   "metadata": {},
   "source": [
    "### 1.5\n",
    "\n",
    "$$(A \\cdot B)\\cdot C = A \\cdot (B \\cdot C)$$\n",
    "$$C(A+B) = C \\cdot A + C \\cdot B$$"
   ]
  },
  {
   "cell_type": "markdown",
   "metadata": {},
   "source": [
    "***"
   ]
  },
  {
   "cell_type": "markdown",
   "metadata": {},
   "source": [
    "### 1.6\n",
    "\n",
    "행렬 $A$와 $B$가 모두 정방행렬이면\n",
    "$$|AB| = |BA| = |A||B|$$"
   ]
  },
  {
   "cell_type": "markdown",
   "metadata": {},
   "source": [
    "***"
   ]
  },
  {
   "cell_type": "markdown",
   "metadata": {},
   "source": [
    "### 1.7\n",
    "\n",
    "행렬 $A$가 정방행렬이면\n",
    "$$|A| = |A^{\\prime}|$$"
   ]
  },
  {
   "cell_type": "markdown",
   "metadata": {},
   "source": [
    "***"
   ]
  },
  {
   "cell_type": "markdown",
   "metadata": {},
   "source": [
    "### 1.8\n",
    "\n",
    "행렬 $A$가 $n \\times n$ 정방행렬이면 상수 $k$에 대하여\n",
    "$$|kA|=k^n|A|$$"
   ]
  },
  {
   "cell_type": "markdown",
   "metadata": {},
   "source": [
    "***"
   ]
  },
  {
   "cell_type": "markdown",
   "metadata": {},
   "source": [
    "### 1.9\n",
    "\n",
    "$$tr(AB)=tr(BA)$$\n",
    "$$tr(A \\pm B) = tr(A) \\pm tr(B)$$\n",
    "$$tr(ABC)=tr(BCA)=tr(CAB)$$"
   ]
  },
  {
   "cell_type": "markdown",
   "metadata": {},
   "source": [
    "***"
   ]
  },
  {
   "cell_type": "markdown",
   "metadata": {},
   "source": [
    "### 1.10\n",
    "\n",
    "$I$를 $n \\times n$ 단위행렬이라고 하면\n",
    "$$tr(I) = n$$"
   ]
  },
  {
   "cell_type": "markdown",
   "metadata": {},
   "source": [
    "***"
   ]
  },
  {
   "cell_type": "markdown",
   "metadata": {},
   "source": [
    "### 1.11\n",
    "$$\\textrm{tr}(kA) = k\\textrm{tr}(A)$$"
   ]
  },
  {
   "cell_type": "markdown",
   "metadata": {},
   "source": [
    "***"
   ]
  },
  {
   "cell_type": "markdown",
   "metadata": {},
   "source": [
    "### 1.12\n",
    "\n",
    "전치행렬 표시와 그 역행렬 표시는 순서를 바꾸어도 된다.\n",
    "$$(A \\prime)^{-1} = (A^{-1})^{\\prime}$$"
   ]
  },
  {
   "cell_type": "markdown",
   "metadata": {},
   "source": [
    "***"
   ]
  },
  {
   "cell_type": "markdown",
   "metadata": {},
   "source": [
    "### 1.13\n",
    "\n",
    "행렬 $A$와 $B$가 모두 정방행렬이고, $|A|\\neq 0$, $|B|\\neq 0$ 이면\n",
    "$$(AB)^{-1}=B^{-1}A^{-1}$$"
   ]
  },
  {
   "cell_type": "markdown",
   "metadata": {},
   "source": [
    "***"
   ]
  },
  {
   "cell_type": "markdown",
   "metadata": {},
   "source": [
    "### 1.14\n",
    "$$|A^{-1}|=\\frac{1}{|A|}$$"
   ]
  },
  {
   "cell_type": "markdown",
   "metadata": {},
   "source": [
    "***"
   ]
  },
  {
   "cell_type": "markdown",
   "metadata": {},
   "source": [
    "### 1.15\n",
    "상수 $k$가 0이 아니고 행렬 $A$가 역행렬이 존재한다면\n",
    "$$(kA)^{-1} = \\frac{1}{k}A^{-1}$$"
   ]
  },
  {
   "cell_type": "markdown",
   "metadata": {},
   "source": [
    "***"
   ]
  },
  {
   "cell_type": "markdown",
   "metadata": {},
   "source": [
    "### 1.16\n",
    "\n",
    "모든 대칭행렬 $A$에 대하여  \n",
    "\n",
    "$P^{\\prime} AP=D$ ($D$는 대각행렬)  \n",
    "\n",
    "이 되는 직교행렬 P가 반드시 존재한다."
   ]
  },
  {
   "cell_type": "markdown",
   "metadata": {},
   "source": [
    "***"
   ]
  },
  {
   "cell_type": "markdown",
   "metadata": {},
   "source": [
    "### 1.17\n",
    "\n",
    "직교행렬 $P$에 대하여 다음 관계식이 성립한다.  \n",
    "\n",
    "$1)\\; tr(P\\prime AP) = tr(A)$  \n",
    "$2)\\; |P\\prime AP| = |A|$  \n",
    "$3)\\; |P| = 1 \\, or \\, -1$"
   ]
  },
  {
   "cell_type": "markdown",
   "metadata": {},
   "source": [
    "***"
   ]
  },
  {
   "cell_type": "markdown",
   "metadata": {},
   "source": [
    "### 1.18\n",
    "\n",
    "두 개의 행렬 $A$와 $B$가 모두 멱등행렬이고 $AB=BA$이면 행렬 $AB$도 멱등행렬이다."
   ]
  },
  {
   "cell_type": "markdown",
   "metadata": {},
   "source": [
    "***"
   ]
  },
  {
   "cell_type": "markdown",
   "metadata": {},
   "source": [
    "### 1.19\n",
    "\n",
    "$$r(A^{\\prime})=r(A)=r(A^{\\prime} A)=r(AA^{\\prime})$$"
   ]
  },
  {
   "cell_type": "markdown",
   "metadata": {},
   "source": [
    "***"
   ]
  },
  {
   "cell_type": "markdown",
   "metadata": {},
   "source": [
    "### 1.20\n",
    "\n",
    "$$r(A\\cdot B) \\leq r(A)\\, or\\, r(B)$$\n",
    "$$r(A\\vdots B)\\leq r(A) + r(B)$$"
   ]
  },
  {
   "cell_type": "markdown",
   "metadata": {},
   "source": [
    "***"
   ]
  },
  {
   "cell_type": "markdown",
   "metadata": {},
   "source": [
    "### 1.21\n",
    "\n",
    "대칭행렬 $A$의 고유치는 모두 실수(real number)이다."
   ]
  },
  {
   "cell_type": "markdown",
   "metadata": {},
   "source": [
    "***"
   ]
  },
  {
   "cell_type": "markdown",
   "metadata": {},
   "source": [
    "### 1.22\n",
    "\n",
    "$n \\times n$ 대칭행렬 $A$의 고유치를 $\\lambda_1, \\lambda_2, \\dots, \\lambda_n$ 이라고 하면 다음 식이 성립한다.\n",
    "\n",
    "$$tr(A)=\\sum_{i=1}^n \\lambda_i$$\n",
    "$$tr(A^{\\prime} A) = \\sum_{i=1}^n \\lambda_i^2$$\n",
    "$$tr(A^{-1})=\\sum_{i=1}^n \\lambda_i^{-1}$$\n",
    "$$|A| = \\lambda_1, \\lambda_2, \\dots, \\lambda_n = \\prod_{i=1}^n \\lambda_i$$"
   ]
  },
  {
   "cell_type": "markdown",
   "metadata": {},
   "source": [
    "***"
   ]
  },
  {
   "cell_type": "markdown",
   "metadata": {},
   "source": [
    "### 1.23\n",
    "\n",
    "대칭행렬 $A$의 0이 아닌 고유치의 개수는 $r(A)$와 같다.\n"
   ]
  },
  {
   "cell_type": "markdown",
   "metadata": {},
   "source": [
    "***"
   ]
  },
  {
   "cell_type": "markdown",
   "metadata": {},
   "source": [
    "### 1.24\n",
    "\n",
    "멱등행렬의 고유치는 0 또는 1이다. 따라서\n",
    "$$tr(A)=r(A)$$\n",
    "대칭행렬 $A$의 어떤 고유치 $\\lambda_i$에 대하여\n",
    "$$(A-\\lambda I)x = 0, 즉 \\, Ax=\\lambda_i x$$\n",
    "와 같은 연립방정식을 만족시키는 벡터 $x$를 주어진 $\\lambda_i$의 고유벡터라고 하며 $p$개의 고유치에 대하여 $p$개의 고유벡터가 존재한다."
   ]
  },
  {
   "cell_type": "markdown",
   "metadata": {},
   "source": [
    "***"
   ]
  },
  {
   "cell_type": "markdown",
   "metadata": {},
   "source": [
    "### 1.25\n",
    "\n",
    "대칭행렬 $A$가 양정치행렬이 되기 위한 필요충부조건은 어떤 정칙행렬 $C$가 존재하여 $A=CC^{\\prime}$와 같이 되는 것이다."
   ]
  },
  {
   "cell_type": "markdown",
   "metadata": {},
   "source": [
    "***"
   ]
  },
  {
   "cell_type": "markdown",
   "metadata": {},
   "source": [
    "### 1.26\n",
    "\n",
    "$n \\times m$ 행렬 $A$의 계수가 $m\\, (m<n)$ 일 때 $A^{\\prime} A$는 양정치행렬이고 $AA^{\\prime}$은 양반정치행렬이다."
   ]
  },
  {
   "cell_type": "markdown",
   "metadata": {},
   "source": [
    "***"
   ]
  },
  {
   "cell_type": "markdown",
   "metadata": {},
   "source": [
    "### 1.27\n",
    "\n",
    "$n \\times m\\,(m<n)$ 행렬 $A$의 계수가 $k(k<m)$일 때 $A^{\\prime} A$와 $AA^{\\prime}$은 모두 양반정치행렬이다."
   ]
  },
  {
   "cell_type": "markdown",
   "metadata": {},
   "source": [
    "***"
   ]
  },
  {
   "cell_type": "markdown",
   "metadata": {},
   "source": [
    "### 1.28\n",
    "\n",
    "양(음)정치행렬 $A$의 고유치는 모두 양(음)수이고 양(음)반정치행렬$B$의 고유치는 0 또는 양(음)수이다."
   ]
  },
  {
   "cell_type": "markdown",
   "metadata": {},
   "source": [
    "***"
   ]
  },
  {
   "cell_type": "markdown",
   "metadata": {},
   "source": [
    "### 1.29\n",
    "\n",
    "어떤 정칙행렬 $C$에 대하여 만약 행렬 $A$가 양정치이면 $C^{\\prime} AC$도 양정치이고 만약 $A$가 양반정치이면 $C^{\\prime} AC$도 양반정치이다."
   ]
  },
  {
   "cell_type": "markdown",
   "metadata": {},
   "source": [
    "***"
   ]
  },
  {
   "cell_type": "markdown",
   "metadata": {},
   "source": [
    "### 1.30\n",
    "\n",
    "$(n\\times n)$ 행렬 $A=(a_{ij})$가 양정치행렬이기 위한 필요충분조건은 다음과 같다.\n",
    "\n",
    "$$a_{11}>0,\\,\n",
    "\\begin{pmatrix}\n",
    "a_{11} & a_{12} \\\\\n",
    "a_{21} & a_{22} \\\\\n",
    "\\end{pmatrix}\n",
    "> 0, \\cdots , \\,\n",
    "\\begin{pmatrix}\n",
    "a_{11} & a_{12} & \\cdots & a_{1n} \\\\\n",
    "a_{21} & a_{22} & \\cdots & a_{2n} \\\\\n",
    "\\vdots & \\vdots &        & \\vdots \\\\\n",
    "a_{n1} & a_{n2} & \\cdots & a_{nn} \\\\\n",
    "\\end{pmatrix}\n",
    ">0$$"
   ]
  },
  {
   "cell_type": "markdown",
   "metadata": {},
   "source": [
    "***"
   ]
  },
  {
   "cell_type": "markdown",
   "metadata": {},
   "source": [
    "## 2. 기초통계"
   ]
  },
  {
   "cell_type": "markdown",
   "metadata": {},
   "source": [
    "### 2.1\n",
    "\n",
    "$X$와 $Y$를 확률변수, $k$를 임의의 상수라고 할 때 다음이 성립한다.  \n",
    "\n",
    "$(1)\\, E(kX) = kE(X)$  \n",
    "$(2)\\, E(X+k) = E(X) + k $  \n",
    "$(3)\\, E(X+Y) = E(X) + E(Y)$  "
   ]
  },
  {
   "cell_type": "markdown",
   "metadata": {},
   "source": [
    "***"
   ]
  },
  {
   "cell_type": "markdown",
   "metadata": {},
   "source": [
    "### 2.2\n",
    "\n",
    "$X$를 확률변수, $k$를 상수라고 하면 다음이 성립한다.  \n",
    "\n",
    "$(1) Var(X+k) = Var(X)$  \n",
    "$(2) Var(kX) = k^2 Var(X)$"
   ]
  },
  {
   "cell_type": "markdown",
   "metadata": {},
   "source": [
    "***"
   ]
  },
  {
   "cell_type": "markdown",
   "metadata": {},
   "source": [
    "### 2.3\n",
    "\n",
    "$X$와 $Y$ 서로 독립인 확률변수이면, 다음 식이 성립한다.\n",
    "\n",
    "$1)\\, Var(X \\pm Y) = Var(X) + Var(Y)$  \n",
    "$2)\\, E(XY) = E(X)E(Y)$  \n",
    "$3)\\, \\rho_{XY}=0, \\, \\sigma_{XY}=0$"
   ]
  },
  {
   "cell_type": "markdown",
   "metadata": {},
   "source": [
    "***"
   ]
  },
  {
   "cell_type": "markdown",
   "metadata": {},
   "source": [
    "### 2.4\n",
    "\n",
    "상수벡터 $a^\\prime=(a_1, a_2, \\cdots, a_k)$에 대한 확률번수 $X_1, X_2, \\cdots, X_k$의 선형결합 $a\\prime x=a_1X_1+a_2X_2+\\cdots _ a_kX_k$의 기댓값과 분산은 다음과 같다.\n",
    "\n",
    "$$E(a^\\prime x)=a^\\prime E(x) = a^\\prime\\mu$$\n",
    "$$Var(a^\\prime x) = a^\\prime Var(x)a = a^\\prime \\sum a = \\sum_{i=1}^k a_i^2 \\mu_i^2 + 2\\sum_{i=1}^k \\cdot \\sum_{j=1, i>i}^k a_i a_j \\sigma_{ij}$$\n",
    "\n",
    "만약 $X_i$들이 서로 독립이면 $\\sigma_{ij}=0$이 된다. 또한 변수 $X_i$들이 두 개의 선형식 $\\sigma_{i=1}^k a_i X_i$와 $\\sum_{i=1}^k b_i X_i$에서 $X_i$들이 서로 독립이면 다음과 같은 공분산 식이 성립한다.\n",
    "\n",
    "$$cov(\\sum_{i=1}^k a_i X_i, \\sum_{i-1}^k b_i X_i) = \\sum_{i=1}^k a_i b_i \\sigma^2$$"
   ]
  },
  {
   "cell_type": "markdown",
   "metadata": {},
   "source": [
    "***"
   ]
  },
  {
   "cell_type": "markdown",
   "metadata": {},
   "source": [
    "### 2.5\n",
    "\n",
    "만약 확률변수 $X$가 $N(\\mu, \\sigma)$인 정규분포를 따르고 임의의 상수 $a, c \\, (c\\neq 0)$가 존재하여 $Y=a+cX$라는 관계가 성립하면\n",
    "$$Y \\sim N(a+c\\mu, c^2 \\sigma^2)$$\n",
    "과 같은 분포를 따른다."
   ]
  },
  {
   "cell_type": "markdown",
   "metadata": {},
   "source": [
    "***"
   ]
  },
  {
   "cell_type": "markdown",
   "metadata": {},
   "source": [
    "### 2.6\n",
    "\n",
    "$X_1, X_2, \\dots, X_n$이 서로 독립이고 정규분포를 따르는 확률변수라면 $X_i$들의 선형결합 $Y=\\sum_{i=1}^n a_i X_i$ ($a_i$는 상수)은 다음과 같은 정규분포를 한다.\n",
    "\n",
    "$$Y \\sim N(\\sum_{i=1}^n a_i E(X), \\quad \\sum_{i=1}^n a_i^2 Var(X_i))$$"
   ]
  },
  {
   "cell_type": "markdown",
   "metadata": {},
   "source": [
    "***"
   ]
  },
  {
   "cell_type": "markdown",
   "metadata": {},
   "source": [
    "### 2.7\n",
    "\n",
    "$N(\\mu, \\sigma^2)$의 모집단으로부터 $n$개의 표본을 뽑아 표본분산을 $S_*^2=\\frac{1}{n}\\sum_{i=1}^n(X_i = \\bar X)^2$이라고 하면 $X$와 $S_*^2$은 서로 독립이다.\n",
    "\n",
    "$$\\frac{nS_*^2}{\\sigma^2} \\sim \\chi^2 (n-1)$$\n",
    "\n",
    "$S_*^2$ 대신에 불편분산 $S^2=\\frac{1}{n-1}\\sum_{i=1}^n(X_i-\\bar X)^2$을 이용하면\n",
    "\n",
    "$$\\frac{(n-1)S^2}{\\sigma^2} \\sim \\chi^2(n-1)$$\n",
    "\n",
    "이다."
   ]
  },
  {
   "cell_type": "markdown",
   "metadata": {},
   "source": [
    "***"
   ]
  },
  {
   "cell_type": "markdown",
   "metadata": {},
   "source": [
    "### 2.8\n",
    "\n",
    "$X_1, X_2, \\dots, X_n$이 $N(\\mu, \\sigma^2)$ 모집단으로부터의 표본이라고 하면\n",
    "\n",
    "$$\\frac{\\bar X - \\mu}{\\frac{S}{\\sqrt n}} \\sim t(n-1)$$"
   ]
  },
  {
   "cell_type": "code",
   "execution_count": null,
   "metadata": {},
   "outputs": [],
   "source": []
  }
 ],
 "metadata": {
  "kernelspec": {
   "display_name": "Python 3",
   "language": "python",
   "name": "python3"
  },
  "language_info": {
   "codemirror_mode": {
    "name": "ipython",
    "version": 3
   },
   "file_extension": ".py",
   "mimetype": "text/x-python",
   "name": "python",
   "nbconvert_exporter": "python",
   "pygments_lexer": "ipython3",
   "version": "3.8.5"
  }
 },
 "nbformat": 4,
 "nbformat_minor": 4
}
