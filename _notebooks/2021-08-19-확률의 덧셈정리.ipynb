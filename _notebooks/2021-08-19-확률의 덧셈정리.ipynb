{
 "cells": [
  {
   "cell_type": "markdown",
   "metadata": {},
   "source": [
    "# 8. 확률의 덧셈정리\n",
    ">complete\n",
    "- toc: false\n",
    "- badges: true\n",
    "- comments: true\n",
    "- categories: [Statistics], [Statistical Mathematics]\n",
    "- image: images/chart-preview.png"
   ]
  },
  {
   "cell_type": "markdown",
   "metadata": {},
   "source": [
    "## 확률의 덧셈정리\n",
    "`-` 서로 다른 사건 A와 B가 존재할 때, $A \\cup B$의 확률은 아래와 같습니다.\n",
    "\n",
    "$$P(A \\cup B)=P(A)+P(B)-P(A \\cap B)$$\n",
    "\n",
    "![제목 없음](https://user-images.githubusercontent.com/76620002/129926258-9bd60e3b-ae10-49d2-9dc6-b50fd4c823fc.png)\n",
    "\n",
    "- 서로 다른 집합 A와 B에서 아래와 같은 공식이 성립합니다. n(A)는 사건 A의 원소의 개수를 뜻합니다.\n",
    "  \n",
    "  $$n(A \\cup B)=n(A)+n(B)-n(A \\cap B)$$\n",
    "  \n",
    "  저희는 임의의 사건 A에 대하여 $P(A)=\\frac{n(A)}{n(S)}$ 임을 알고 있습니다. 따라서 모든 항에 n(S)를 나누어줍니다.\n",
    "  \n",
    "  $$\\frac{n(A \\cup B)}{n(S)}=\\frac{n(A)}{n(S)}+\\frac{n(B)}{n(S)}-\\frac{n(A \\cap B)}{n(S)}$$\n",
    "  \n",
    "  $$P(A \\cup B)=P(A)+P(B)-P(A \\cap B)$$"
   ]
  },
  {
   "cell_type": "markdown",
   "metadata": {},
   "source": [
    "***"
   ]
  },
  {
   "cell_type": "markdown",
   "metadata": {},
   "source": [
    "## 여사건의 확률\n",
    "`-` 여사건 $A^c$의 확률은 아래와 같습니다.\n",
    "\n",
    "$$P(A^c) = 1-P(A)$$\n",
    "\n",
    "- 위 식은 아래와 같은 과정을 통해 유도할 수 있습니다.\n",
    "$$P(A) + P(A^c) = P(S)$$\n",
    "$$P(S) = 1$$\n",
    "$$P(A)+P(A^c)=1$$\n",
    "$$P(A^c)=1-P(A)$$"
   ]
  },
  {
   "cell_type": "code",
   "execution_count": null,
   "metadata": {},
   "outputs": [],
   "source": []
  }
 ],
 "metadata": {
  "kernelspec": {
   "display_name": "Python 3",
   "language": "python",
   "name": "python3"
  },
  "language_info": {
   "codemirror_mode": {
    "name": "ipython",
    "version": 3
   },
   "file_extension": ".py",
   "mimetype": "text/x-python",
   "name": "python",
   "nbconvert_exporter": "python",
   "pygments_lexer": "ipython3",
   "version": "3.8.5"
  }
 },
 "nbformat": 4,
 "nbformat_minor": 4
}
