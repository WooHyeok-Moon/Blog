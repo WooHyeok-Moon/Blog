{
 "cells": [
  {
   "cell_type": "markdown",
   "metadata": {},
   "source": [
    "# 11. 베이즈 정리\n",
    ">complete\n",
    "- toc: false\n",
    "- badges: true\n",
    "- comments: true\n",
    "- categories: [Statistical Mathematics]\n",
    "- image: images/chart-preview.png"
   ]
  },
  {
   "cell_type": "markdown",
   "metadata": {},
   "source": [
    "## 전확률 공식"
   ]
  },
  {
   "cell_type": "markdown",
   "metadata": {},
   "source": [
    "- 사건 $B_1, B_2, \\dots, B_k$는 상호배반이며 $(B_i \\cap B_j = \\varnothing, i \\neq j, \\cup_{i=1}^k B_i=S)$라고 한다. 이 때 임의의 사건 A에 대하여\n",
    "$$P(A)=\\sum_{i=1}^k P(B_i)P(A|B_i)$$\n",
    "가 성립한다. 이를 `전확률 공식` 또는 `전체확률의 공식` 이라고 합니다.\n",
    "\n",
    "- 표본공간 $S$가 서로 배반인 사건 $B_1, B_2, \\dots, B_k$로 이루어져 있다면 그 표본공간 내부의 사건 $A$의 확률은 $A$와 $B_i$의 교집합들의 확률의 합으로 표현할 수 있습니다.\n",
    "$$P(A)=P(A \\cap B_i) + P(A \\cap B_2) + \\cdots + P(A \\cap B_k)$$\n",
    "\n",
    "  조건부 확률에서 배운 식을 적용하면 아래와 같은 식을 유도할 수 있습니다.\n",
    "$$P(A \\cap B_i) = P(B_i) \\cdot P(A|B_i)$$\n",
    "$$P(A) = P(B_1)P(A|B_1) + P(B_2)P(A|B_2) + \\cdots + P(B_k)P(A|B_k)$$\n",
    "\n",
    "  베이즈 정리를 유도하기 위한 중간 과정이라고 생각해도 무방합니다."
   ]
  },
  {
   "cell_type": "markdown",
   "metadata": {},
   "source": [
    "***"
   ]
  },
  {
   "cell_type": "markdown",
   "metadata": {},
   "source": [
    "## 베이즈 정리\n",
    "\n",
    "- 사건 $B_1, B_2, \\dots, B_k$는 상호배반이며 $(B_i \\cap B_j = \\varnothing, i \\neq j, \\cup_{i=1}^k B_i=S)$라고 한다. 이 때 임의의 사건 A가 일어났다는 조건 하에서 사건 B_j가 일어날 확률은\n",
    "    $$P(B_j|A)=\\frac{P(B_j)P(A|B_j)}{\\sum_{i=1}^k P(B_i)P(A|B_i)}$$\n",
    "가 성립한다. 이를 `베이즈 정리` 라고 합니다.\n",
    "\n",
    "- 좌항을 변환해보면 $P(B_j|A)=\\frac{P(A \\cap B_j)}{P(A)}$이고, 분자에는 조건부 확률의 공식, 분모에는 전확률의 공식을 적용하면 아래의 식을 유도할 수 있습니다.\n",
    "    $$\\frac{P(B_j)P(A|B_j)}{\\sum_{i=1}^k P(B_i)P(A|B_i)}$$\n",
    "\n",
    "  이는 추후 베이지안 통계학의 기초가 됩니다."
   ]
  },
  {
   "cell_type": "code",
   "execution_count": null,
   "metadata": {},
   "outputs": [],
   "source": []
  }
 ],
 "metadata": {
  "kernelspec": {
   "display_name": "Python 3",
   "language": "python",
   "name": "python3"
  },
  "language_info": {
   "codemirror_mode": {
    "name": "ipython",
    "version": 3
   },
   "file_extension": ".py",
   "mimetype": "text/x-python",
   "name": "python",
   "nbconvert_exporter": "python",
   "pygments_lexer": "ipython3",
   "version": "3.8.5"
  }
 },
 "nbformat": 4,
 "nbformat_minor": 4
}
