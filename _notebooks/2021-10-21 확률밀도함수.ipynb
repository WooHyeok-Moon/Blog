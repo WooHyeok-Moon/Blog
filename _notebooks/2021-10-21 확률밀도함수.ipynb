{
 "cells": [
  {
   "cell_type": "markdown",
   "id": "4ec05f47-384c-49d9-a8a4-b0159b077f70",
   "metadata": {},
   "source": [
    "# 13. 확률밀도함수 및 확률분포함수\n",
    ">complete\n",
    "- toc: false\n",
    "- badges: true\n",
    "- comments: true\n",
    "- categories: [Statistical Mathematics]\n",
    "- image: images/chart-preview.png"
   ]
  },
  {
   "cell_type": "markdown",
   "id": "26a4ced0-70ab-4d41-b6f2-e2c0a28edab3",
   "metadata": {},
   "source": [
    "## 확률밀도함수(probability density function)"
   ]
  },
  {
   "cell_type": "markdown",
   "id": "e45d5390-3f9e-41e4-957c-caa07e67b37a",
   "metadata": {},
   "source": [
    "- 확률변수의 분포형태를 나타내기 위해 저희는 `확률밀도함수`라는 것을 사용합니다. 확률변수의 분포를 함수의 꼴로 표현해 식과 그래프로 나타낼 수 있게 되며, 우리가 배워왔던 '수학'을 적용할 수 있게 됩니다."
   ]
  },
  {
   "cell_type": "markdown",
   "id": "bae3d04f-2830-425d-9c49-7b35a945a739",
   "metadata": {},
   "source": [
    "- 일반적으로 이산형 확률변수는 '확률질량함수(probability mass function)', 연속형 확률변수는 '확률밀도함수(probability density function)'로 표현합니다. 하지만 이 블로그에서는 두 가지 경우 모두 확률밀도함수로 통일하여 표현하겠습니다."
   ]
  },
  {
   "cell_type": "markdown",
   "id": "880fc9dc-4f59-4d2f-a1d3-6b4ffbb83cb2",
   "metadata": {},
   "source": [
    "- 확률밀도함수의 조건은 아래와 같습니다.\n",
    "\n",
    "1) 이산형  \n",
    "    $\\quad$모든 실수 $x$에 대하여, $f(x) \\geq 0$이다.  \n",
    "    $\\quad$확률변수 $X$가 가질 수 있는 유한 또는 가산무한개의 값 $x_1, x_2, \\cdots$에 대하여 $f(x_i)>0$이며 $\\sum\\limits_{\\forall x_i}f(x_i)=1$이다.\n",
    "    \n",
    "2) 연속형  \n",
    "    $\\quad$모든 실수 $x$에 대하여, $f(x) \\geq 0$이다.  \n",
    "    $\\quad \\int_{-\\infty}^{\\infty}f(x)dx=1$ "
   ]
  },
  {
   "cell_type": "markdown",
   "id": "a08c096c-d1d6-4191-9171-a9b078a9ca18",
   "metadata": {},
   "source": [
    "- 위의 조건에서 알 수 있는 것은, 이산형 확률변수와 연속형 확률변수의 차이는 합을 나타내는 방법이 $\\sum$과 $\\int$로 다를 뿐이라는 것입니다."
   ]
  },
  {
   "cell_type": "markdown",
   "id": "75d2c6b2-d8ca-40a2-ad26-9d0bf9a01fda",
   "metadata": {},
   "source": [
    "- 연속형 확률변수의 예를 하나 들어보겠습니다. 구간 (0, 3)에 정의된 함수 $f(x)=\\frac{x^2}{9}$은  \n",
    "(1) $f(x)\\geq 0$  \n",
    "(2) $\\int_0^3 \\frac{x^2}{9}dx=1$  \n",
    "위의 두 조건을 모두 만족하므로 확률밀도함수입니다. 변수 $X$의 확률밀도함수가 $f(x)$이면, $0<X<2$일 확률은 아래와 같습니다.\n",
    "\n",
    "$$\\begin{aligned}\n",
    "P(0<X<2) =& \\int_0^2 \\frac{x^2}{9} dx \\\\\n",
    "=&\\frac{8}{27}\n",
    "\\end{aligned}$$"
   ]
  },
  {
   "cell_type": "code",
   "execution_count": 147,
   "id": "565772f2-f6e5-43e4-9d6e-88cba5b82ab0",
   "metadata": {},
   "outputs": [
    {
     "data": {
      "image/png": "[encoded data removed]",
      "text/plain": [
       "<Figure size 720x432 with 1 Axes>"
      ]
     },
     "metadata": {
      "needs_background": "light"
     },
     "output_type": "display_data"
    }
   ],
   "source": [
    "#collapse_show\n",
    "import numpy as np\n",
    "import matplotlib.pyplot as plt\n",
    "from matplotlib import font_manager, rc\n",
    "import matplotlib\n",
    "\n",
    "font_name = font_manager.FontProperties(fname=\"c:/Windows/Fonts/malgun.ttf\").get_name()\n",
    "\n",
    "rc('font', family=font_name)\n",
    "\n",
    "matplotlib.rcParams['axes.unicode_minus'] = False\n",
    "\n",
    "x = np.linspace(0, 3, 20)\n",
    "x1 = np.linspace(0, 2, 20)\n",
    "y = np.square(x)/9\n",
    "y1 = np.square(x1)/9\n",
    "\n",
    "plt.figure(figsize=(10, 6))\n",
    "plt.xlabel('X', fontsize=14)\n",
    "plt.ylabel('f(x)', fontsize=14, rotation=0)\n",
    "plt.xticks([0, 1, 2, 3], fontsize=14)\n",
    "plt.yticks([1], fontsize=14)\n",
    "plt.plot(x, y, c='dodgerblue')\n",
    "plt.plot(x1, y1, c='dodgerblue')\n",
    "plt.axvline(3, .05, .95, linestyle='--', c='gray')\n",
    "plt.annotate(' ',xy=(0, 1), xytext=(0, -0.08), arrowprops=dict(facecolor='black', width=1, shrink=0, headwidth=8))\n",
    "plt.annotate(' ',xy=(3.1, 0), xytext=(-0.175, 0), arrowprops=dict(facecolor='black', width=1, shrink=0, headwidth=8))\n",
    "plt.fill_betweenx(y1, x1, 2, color='dodgerblue')\n",
    "plt.annotate('넓이=8/27', xy=(1.5, .1), xytext=(2.5, .3), fontsize=16, arrowprops=dict(facecolor='black', width=2, shrink=1, headwidth=8))\n",
    "plt.gca().spines['right'].set_visible(False)\n",
    "plt.gca().spines['top'].set_visible(False)\n",
    "plt.gca().spines['left'].set_visible(False)\n",
    "plt.gca().spines['bottom'].set_visible(False)\n",
    "plt.tick_params(axis='x', color='white', pad=-1)\n",
    "plt.tick_params(axis='y', color='white', pad=-25)\n",
    "plt.tight_layout()\n",
    "plt.show()"
   ]
  },
  {
   "cell_type": "markdown",
   "id": "852b5f92-acf0-4990-a9d8-f98b814f125c",
   "metadata": {},
   "source": [
    "## 확률분포함수(probability distribution function)"
   ]
  },
  {
   "cell_type": "markdown",
   "id": "c5c656e2-e9d5-4adf-ba3e-7e8b1349025b",
   "metadata": {},
   "source": [
    "- `확률분포함수` $F(X)$는 '누적분포함수' 또는 '누적확률분포함수'라고도 하며, 주어진 점 $x$ 이하인 모든 값을 가질 확률을 누적한다는 의미를 지닌다. 식으로 표현하면 아래와 같습니다.\n",
    "\n",
    "$$\n",
    "F(x)=\n",
    "\\begin{cases}\n",
    "\\sum\\limits_{x_i\\leq x}& \\text{, X가 이산형인 경우}\\\\\n",
    "\\int_{-\\infty}^{\\infty} & \\text{, X가 연속형인 경우}\\\\\n",
    "\\end{cases}\n",
    "$$"
   ]
  },
  {
   "cell_type": "markdown",
   "id": "29d25cb1-68b7-4435-bf05-c0b2adaa74de",
   "metadata": {},
   "source": [
    "- 확률분포함수의 조건은 아래와 같습니다.\n",
    "\n",
    "$$\\lim_{x \\to -\\infty} F(x) = 0$$\n",
    "$$\\lim_{x \\to \\infty} F(x) = 1$$\n",
    "$$\\lim_{h \\to 0^{+}} F(x+h) = F(x)$$\n",
    "$$a<b \\text{이면} F(a) \\leq F(b)$$"
   ]
  },
  {
   "cell_type": "markdown",
   "id": "506af233-0995-46ba-b0b6-51673e6201f7",
   "metadata": {},
   "source": [
    "- 확률변수 $X$가 구간 (a, b] 사이의 값을 가질 확률을 확률분포함수를 이용하면 아래와 같이 표현할 수 있습니다.\n",
    "\n",
    "$$P(a<X\\leq b) = F(b) = F(a)$$"
   ]
  },
  {
   "cell_type": "code",
   "execution_count": null,
   "id": "01a60d76-6446-43a2-9312-7a1c8db1a5b4",
   "metadata": {},
   "outputs": [],
   "source": []
  }
 ],
 "metadata": {
  "kernelspec": {
   "display_name": "Python 3",
   "language": "python",
   "name": "python3"
  },
  "language_info": {
   "codemirror_mode": {
    "name": "ipython",
    "version": 3
   },
   "file_extension": ".py",
   "mimetype": "text/x-python",
   "name": "python",
   "nbconvert_exporter": "python",
   "pygments_lexer": "ipython3",
   "version": "3.8.8"
  }
 },
 "nbformat": 4,
 "nbformat_minor": 5
}
