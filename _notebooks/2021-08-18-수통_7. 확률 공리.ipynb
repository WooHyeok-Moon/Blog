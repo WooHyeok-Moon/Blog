{
 "cells": [
  {
   "cell_type": "markdown",
   "metadata": {},
   "source": [
    "# 7. 확률 공리\n",
    ">complete\n",
    "- toc: false\n",
    "- badges: true\n",
    "- comments: true\n",
    "- categories: [Statistical Mathematics]\n",
    "- image: images/chart-preview.png"
   ]
  },
  {
   "cell_type": "markdown",
   "metadata": {},
   "source": [
    "## 확률의 공리적 정의\n",
    "\n",
    "`-` `공리`란 수학에서 정의를 하지 않기로 약속한 당연한 것으로 취급하는 명제를 말합니다.\n",
    "\n",
    "- 이러한 공리를 확률의 관점에서 바라보면, 확률을 말할 때 아주 당연하게 여겨지는 성질들을 모아 이러한 성질들을 만족해야만 확률이라고 정의할 수 있다고 합니다. 그리고 이러한 성질들을 바로 확률의 공리라고 합니다. 확률의 공리는 세 가지가 있습니다.\n",
    "\n",
    "$$P(S) = 1 \\quad (S\\; is\\, a \\, sample\\, space)$$\n",
    "$$if A \\subset S, \\quad 0 \\leq P(A) \\leq 1$$\n",
    "$$if A_i \\cap A_j = \\varnothing \\; (i \\neq j), \\quad \\cup_{i=1}^{\\infty}A_i = \\sum_{i=1}^{\\infty}P(A_i)$$\n",
    "\n",
    "- '확률'로 표현되는 모든 것들은 위의 세 가지 성질을 만족합니다."
   ]
  },
  {
   "cell_type": "code",
   "execution_count": null,
   "metadata": {},
   "outputs": [],
   "source": []
  }
 ],
 "metadata": {
  "kernelspec": {
   "display_name": "Python 3",
   "language": "python",
   "name": "python3"
  },
  "language_info": {
   "codemirror_mode": {
    "name": "ipython",
    "version": 3
   },
   "file_extension": ".py",
   "mimetype": "text/x-python",
   "name": "python",
   "nbconvert_exporter": "python",
   "pygments_lexer": "ipython3",
   "version": "3.8.8"
  }
 },
 "nbformat": 4,
 "nbformat_minor": 4
}
