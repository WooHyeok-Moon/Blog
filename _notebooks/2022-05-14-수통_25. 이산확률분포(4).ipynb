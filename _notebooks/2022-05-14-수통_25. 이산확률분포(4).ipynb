{
 "cells": [
  {
   "cell_type": "markdown",
   "id": "5d9e9c6b-2d66-4e34-9b7c-8ef46ebc784e",
   "metadata": {},
   "source": [
    "# 25. 이산확률분포(4)\n",
    ">incomplete\n",
    "- toc: false\n",
    "- badges: true\n",
    "- comments: true\n",
    "- categories: [Statistical Mathematics]\n",
    "- image: images/chart-preview.png"
   ]
  },
  {
   "cell_type": "markdown",
   "id": "9afd6d8d-aa8d-41e9-b5d2-3b69db3bee02",
   "metadata": {},
   "source": [
    "초안"
   ]
  }
 ],
 "metadata": {
  "kernelspec": {
   "display_name": "Python 3",
   "language": "python",
   "name": "python3"
  },
  "language_info": {
   "codemirror_mode": {
    "name": "ipython",
    "version": 3
   },
   "file_extension": ".py",
   "mimetype": "text/x-python",
   "name": "python",
   "nbconvert_exporter": "python",
   "pygments_lexer": "ipython3",
   "version": "3.8.8"
  }
 },
 "nbformat": 4,
 "nbformat_minor": 5
}
