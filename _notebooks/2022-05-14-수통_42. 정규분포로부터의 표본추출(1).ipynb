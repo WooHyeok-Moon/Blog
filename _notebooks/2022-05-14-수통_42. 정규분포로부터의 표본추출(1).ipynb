{
 "cells": [
  {
   "cell_type": "markdown",
   "id": "c25d47cb-236d-4605-9796-852626af59d5",
   "metadata": {},
   "source": [
    "# 42. 정규분포로부터의 표본추출(1)\n",
    ">incomplete\n",
    "- toc: false\n",
    "- badges: true\n",
    "- comments: true\n",
    "- categories: [Statistical Mathematics]\n",
    "- image: images/chart-preview.png"
   ]
  },
  {
   "cell_type": "markdown",
   "id": "976202f2-8d90-4c65-9f65-b71bb2cb42c3",
   "metadata": {},
   "source": [
    "초안"
   ]
  }
 ],
 "metadata": {
  "kernelspec": {
   "display_name": "Python 3",
   "language": "python",
   "name": "python3"
  },
  "language_info": {
   "codemirror_mode": {
    "name": "ipython",
    "version": 3
   },
   "file_extension": ".py",
   "mimetype": "text/x-python",
   "name": "python",
   "nbconvert_exporter": "python",
   "pygments_lexer": "ipython3",
   "version": "3.8.8"
  }
 },
 "nbformat": 4,
 "nbformat_minor": 5
}
