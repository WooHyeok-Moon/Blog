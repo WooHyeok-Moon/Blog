{
 "cells": [
  {
   "cell_type": "markdown",
   "id": "b747dec2-0b3f-4bf2-94fe-f9602ec3b049",
   "metadata": {},
   "source": [
    "# 12. 확률변수의 정의\n",
    ">complete\n",
    "- toc: false\n",
    "- badges: true\n",
    "- comments: true\n",
    "- categories: [Statistical Mathematics]\n",
    "- image: images/chart-preview.png"
   ]
  },
  {
   "cell_type": "markdown",
   "id": "722bffa4-a32e-418d-9aea-59a2ac222b5e",
   "metadata": {},
   "source": [
    "## 확률변수"
   ]
  },
  {
   "cell_type": "markdown",
   "id": "72b3a8b8-b13f-48aa-9035-4ab408aeb825",
   "metadata": {},
   "source": [
    "- `확률변수 X`는 표본공간 S에 정의된 실함수이다."
   ]
  },
  {
   "cell_type": "markdown",
   "id": "3e864b68-c44f-4482-8348-4a8df87dbf17",
   "metadata": {},
   "source": [
    "- 변수란 무엇일까요? 특정 조건에 따라 변할 수 있는 어떠한 수를 변수라고 부릅니다. 이와 같은 논리로 **확률변수**는 확률에 따라서 변하는 수를 의미합니다. 우리가 실험을 할 때 일반적으로 관심을 갖는 것은, 실험으로부터 얻을 수 있는 어떤 수치적인 양입니다. 이 때 실험결과를 표현하는 이 수치적 양을 확률변수라고 합니다. 이 $X$는 표본공간에서 정의되는 하나의 실함수(정의역과 치역이 모두 실수로 표현되는 함수)가 됩니다."
   ]
  },
  {
   "cell_type": "markdown",
   "id": "328443c8-ff07-4905-a95a-662bfeb817d2",
   "metadata": {},
   "source": [
    "- 사실 이 확률변수 X는 실험을 하기 전에는 저희가 알 수 없습니다. 대신 그 실험에서 나올 수 있는 값과, 그 값이 나올 **가능성**을 생각하여 나타냅니다. 이를 **확률분포**라고 합니다. 확률변수는 항상 상응하는 확률분포를 가지며, 확률분포의 다양한 표현 방법은 추후 알아보겠습니다."
   ]
  },
  {
   "cell_type": "markdown",
   "id": "bcba51e1-1c3c-41d5-b48e-2e00343af56f",
   "metadata": {},
   "source": [
    "- 동전을 3회 독립적으로 반복하여 던지는 시행에서 앞면이 몇 번 나올지에 관심이 있다고 해봅시다. 이 때의 표본공간 S와 그에 대응하는 확률변수 X(=앞면이 나오는 횟수)는 다음과 같습니다.\n",
    "\n",
    "|S|X|\n",
    "|---|-|\n",
    "|HHH|3|\n",
    "|HHT|2|\n",
    "|HTH|2|\n",
    "|THH|2|\n",
    "|HTT|1|\n",
    "|THT|1|\n",
    "|TTH|1|\n",
    "|TTT|0|"
   ]
  },
  {
   "cell_type": "markdown",
   "id": "c8da7db2-b354-4084-bdbb-9863b4d448f4",
   "metadata": {},
   "source": [
    "- 위와 같이 값이 하나씩 떨어지는(셀 수 있는) 확률변수(0, 1, 2, $\\cdots$)를 **이산형 확률변수**라 하고, 셀 수 없는 실직선상의 어떤 구간으로 표현되는 확률변수는 **연속형 확률변수**라 합니다. 예를 들어, 확률변수 X를 '특정 사건이 일어날 때까지 걸리는 시간'으로 정의했다면 연속형 확률변수가 되는 것입니다."
   ]
  },
  {
   "cell_type": "code",
   "execution_count": null,
   "id": "d4eda70a-ced7-4704-ae87-cd03949b2125",
   "metadata": {},
   "outputs": [],
   "source": []
  }
 ],
 "metadata": {
  "kernelspec": {
   "display_name": "Python 3",
   "language": "python",
   "name": "python3"
  },
  "language_info": {
   "codemirror_mode": {
    "name": "ipython",
    "version": 3
   },
   "file_extension": ".py",
   "mimetype": "text/x-python",
   "name": "python",
   "nbconvert_exporter": "python",
   "pygments_lexer": "ipython3",
   "version": "3.8.8"
  }
 },
 "nbformat": 4,
 "nbformat_minor": 5
}
