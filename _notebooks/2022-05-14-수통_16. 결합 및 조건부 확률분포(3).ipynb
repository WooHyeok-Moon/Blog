{
 "cells": [
  {
   "cell_type": "markdown",
   "id": "92d9617b-906f-416e-8a38-bde44aa7f04b",
   "metadata": {},
   "source": [
    "# 16. 결합 및 조건부 확률분포(3)\n",
    ">incomplete\n",
    "- toc: false\n",
    "- badges: true\n",
    "- comments: true\n",
    "- categories: [Statistical Mathematics]\n",
    "- image: images/chart-preview.png"
   ]
  },
  {
   "cell_type": "markdown",
   "id": "042c75d5-b392-43a5-8cb9-e1039a9fab33",
   "metadata": {},
   "source": [
    "초안"
   ]
  }
 ],
 "metadata": {
  "kernelspec": {
   "display_name": "Python 3",
   "language": "python",
   "name": "python3"
  },
  "language_info": {
   "codemirror_mode": {
    "name": "ipython",
    "version": 3
   },
   "file_extension": ".py",
   "mimetype": "text/x-python",
   "name": "python",
   "nbconvert_exporter": "python",
   "pygments_lexer": "ipython3",
   "version": "3.8.8"
  }
 },
 "nbformat": 4,
 "nbformat_minor": 5
}
