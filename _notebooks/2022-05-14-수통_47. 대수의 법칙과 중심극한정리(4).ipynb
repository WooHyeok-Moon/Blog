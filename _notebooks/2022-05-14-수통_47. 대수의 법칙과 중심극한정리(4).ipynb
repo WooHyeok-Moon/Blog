{
 "cells": [
  {
   "cell_type": "markdown",
   "id": "1f5f90cc-a1e8-40cb-aab5-098dd08f6027",
   "metadata": {},
   "source": [
    "# 47. 대수의 법칙과 중심극한정리(4)\n",
    ">incomplete\n",
    "- toc: false\n",
    "- badges: true\n",
    "- comments: true\n",
    "- categories: [Statistical Mathematics]\n",
    "- image: images/chart-preview.png"
   ]
  },
  {
   "cell_type": "markdown",
   "id": "3f77c027-f99b-4a31-8d3e-185e1082cac5",
   "metadata": {},
   "source": [
    "초안"
   ]
  }
 ],
 "metadata": {
  "kernelspec": {
   "display_name": "Python 3",
   "language": "python",
   "name": "python3"
  },
  "language_info": {
   "codemirror_mode": {
    "name": "ipython",
    "version": 3
   },
   "file_extension": ".py",
   "mimetype": "text/x-python",
   "name": "python",
   "nbconvert_exporter": "python",
   "pygments_lexer": "ipython3",
   "version": "3.8.8"
  }
 },
 "nbformat": 4,
 "nbformat_minor": 5
}
