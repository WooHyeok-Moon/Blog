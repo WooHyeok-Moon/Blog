{
 "cells": [
  {
   "cell_type": "markdown",
   "id": "16c91df4-cf2a-416e-88cd-a989d840d64b",
   "metadata": {},
   "source": [
    "# 33. 확률변수들의 함수(2)\n",
    ">incomplete\n",
    "- toc: false\n",
    "- badges: true\n",
    "- comments: true\n",
    "- categories: [Statistical Mathematics]\n",
    "- image: images/chart-preview.png"
   ]
  },
  {
   "cell_type": "markdown",
   "id": "d3d5b8f2-da21-4a7e-86b0-9a91f4d33c32",
   "metadata": {},
   "source": [
    "초안"
   ]
  }
 ],
 "metadata": {
  "kernelspec": {
   "display_name": "Python 3",
   "language": "python",
   "name": "python3"
  },
  "language_info": {
   "codemirror_mode": {
    "name": "ipython",
    "version": 3
   },
   "file_extension": ".py",
   "mimetype": "text/x-python",
   "name": "python",
   "nbconvert_exporter": "python",
   "pygments_lexer": "ipython3",
   "version": "3.8.8"
  }
 },
 "nbformat": 4,
 "nbformat_minor": 5
}
