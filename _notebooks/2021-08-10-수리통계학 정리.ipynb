{
 "cells": [
  {
   "cell_type": "markdown",
   "metadata": {},
   "source": [
    "# 0. 수리통계학 정리\n",
    ">incomplete\n",
    "- toc: true \n",
    "- badges: true\n",
    "- comments: true\n",
    "- categories: [Statistics]\n",
    "- image: images/chart-preview.png"
   ]
  },
  {
   "cell_type": "markdown",
   "metadata": {},
   "source": [
    "## 1.1\n",
    "\n",
    "두 개의 사건 A와 B에 대하여 다음과 같은 성질들이 성립한다.\n",
    "$$P(A^c)=1-P(A)$$\n",
    "$$P(\\varnothing)=0$$\n",
    "$$A \\subset B이면 P(A) \\leq P(B)이다.$$\n",
    "$$P(A \\cup B) =  P(A) + P(B) - P(A \\cup B)$$"
   ]
  },
  {
   "cell_type": "markdown",
   "metadata": {},
   "source": [
    "## 1.2 (전확률공식)\n",
    "\n",
    "사건 $B_1, B_2, \\cdots , B_k$는 상호배반이며 $(B_i \\cap B_j = \\varnothing, i \\neq j), \\cup_{i=1}^{k}B_i=S$라고 하자. 이 때 임의의 사건 A에 대하여,\n",
    "\n",
    "$$P(A)=\\sum_{i=1}^{k}P(B_i)P(A|B_i)$$\n",
    "\n",
    "가 성립한다."
   ]
  },
  {
   "cell_type": "markdown",
   "metadata": {},
   "source": [
    "## 1.3 (베이즈 정리)\n",
    "\n",
    "사건 $B_1, B_2, \\cdots , B_k$는 상호배반이며 $(B_i \\cap B_j = \\varnothing, i \\neq j), \\cup_{i=1}^{k}B_i=S$라고 하자. 이 때 사건 A가 일어났다는 조건하에서 사건 B_j가 일어날 확률은\n",
    "\n",
    "$$P(B_j|A)=\\frac{P(B_j)P(A|B)}{\\sum_{i=1}^{k}P(B_i)P(A|B_i)}$$\n",
    "\n",
    "로 주어진다."
   ]
  },
  {
   "cell_type": "markdown",
   "metadata": {},
   "source": [
    "## 참고문헌\n",
    "- 송성주, 전명식, \"수리통계학\", 자유아카데미"
   ]
  },
  {
   "cell_type": "code",
   "execution_count": null,
   "metadata": {},
   "outputs": [],
   "source": []
  }
 ],
 "metadata": {
  "kernelspec": {
   "display_name": "Python 3",
   "language": "python",
   "name": "python3"
  },
  "language_info": {
   "codemirror_mode": {
    "name": "ipython",
    "version": 3
   },
   "file_extension": ".py",
   "mimetype": "text/x-python",
   "name": "python",
   "nbconvert_exporter": "python",
   "pygments_lexer": "ipython3",
   "version": "3.8.5"
  }
 },
 "nbformat": 4,
 "nbformat_minor": 4
}
