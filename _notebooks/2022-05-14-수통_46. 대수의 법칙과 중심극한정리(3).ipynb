{
 "cells": [
  {
   "cell_type": "markdown",
   "id": "5d04dda4-9dc5-42e5-942f-ee0bbe573276",
   "metadata": {},
   "source": [
    "# 46. 대수의 법칙과 중심극한정리(3)\n",
    ">incomplete\n",
    "- toc: false\n",
    "- badges: true\n",
    "- comments: true\n",
    "- categories: [Statistical Mathematics]\n",
    "- image: images/chart-preview.png"
   ]
  },
  {
   "cell_type": "markdown",
   "id": "a1fc365c-9025-4463-85cf-d3e9a42083e5",
   "metadata": {},
   "source": [
    "초안"
   ]
  }
 ],
 "metadata": {
  "kernelspec": {
   "display_name": "Python 3",
   "language": "python",
   "name": "python3"
  },
  "language_info": {
   "codemirror_mode": {
    "name": "ipython",
    "version": 3
   },
   "file_extension": ".py",
   "mimetype": "text/x-python",
   "name": "python",
   "nbconvert_exporter": "python",
   "pygments_lexer": "ipython3",
   "version": "3.8.8"
  }
 },
 "nbformat": 4,
 "nbformat_minor": 5
}
