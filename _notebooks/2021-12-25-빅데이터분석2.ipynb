{
 "cells": [
  {
   "cell_type": "markdown",
   "id": "ce1cf46f-88b8-4940-adde-cdd9efab69b3",
   "metadata": {
    "id": "d78362d0-5ae4-46b0-bc21-021bb6264b83"
   },
   "source": [
    "# 이미지 크롤링\n",
    ">complete\n",
    "- toc: false\n",
    "- badges: true\n",
    "- comments: true\n",
    "- categories: [Big Data Analysis]\n",
    "- image: images/chart-preview.png"
   ]
  },
  {
   "cell_type": "code",
   "execution_count": null,
   "id": "3c52ad0a-6503-4479-b926-7d07761f7cde",
   "metadata": {},
   "outputs": [],
   "source": []
  }
 ],
 "metadata": {
  "kernelspec": {
   "display_name": "Python 3",
   "language": "python",
   "name": "python3"
  },
  "language_info": {
   "codemirror_mode": {
    "name": "ipython",
    "version": 3
   },
   "file_extension": ".py",
   "mimetype": "text/x-python",
   "name": "python",
   "nbconvert_exporter": "python",
   "pygments_lexer": "ipython3",
   "version": "3.8.8"
  }
 },
 "nbformat": 4,
 "nbformat_minor": 5
}
