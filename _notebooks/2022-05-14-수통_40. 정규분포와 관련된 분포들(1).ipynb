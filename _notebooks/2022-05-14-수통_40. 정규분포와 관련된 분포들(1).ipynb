{
 "cells": [
  {
   "cell_type": "markdown",
   "id": "b4efd681-612d-4858-8c6c-ddb010226754",
   "metadata": {},
   "source": [
    "# 40. 정규분포와 관련된 분포들(1)\n",
    ">incomplete\n",
    "- toc: false\n",
    "- badges: true\n",
    "- comments: true\n",
    "- categories: [Statistical Mathematics]\n",
    "- image: images/chart-preview.png"
   ]
  },
  {
   "cell_type": "markdown",
   "id": "1c9a7a51-499c-40af-a10a-29416bcbe7ee",
   "metadata": {},
   "source": [
    "초안"
   ]
  }
 ],
 "metadata": {
  "kernelspec": {
   "display_name": "Python 3",
   "language": "python",
   "name": "python3"
  },
  "language_info": {
   "codemirror_mode": {
    "name": "ipython",
    "version": 3
   },
   "file_extension": ".py",
   "mimetype": "text/x-python",
   "name": "python",
   "nbconvert_exporter": "python",
   "pygments_lexer": "ipython3",
   "version": "3.8.8"
  }
 },
 "nbformat": 4,
 "nbformat_minor": 5
}
